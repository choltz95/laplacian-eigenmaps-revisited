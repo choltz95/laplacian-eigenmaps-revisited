{
 "cells": [
  {
   "cell_type": "code",
   "execution_count": 1,
   "metadata": {},
   "outputs": [],
   "source": [
    "from sklearn.linear_model import RidgeClassifier\n",
    "ridge = RidgeClassifier(alpha=0.0, fit_intercept=False)\n",
    "\n",
    "import numpy as np\n",
    "import graphlearning as gl\n",
    "import time\n",
    "from tqdm.notebook import tqdm\n",
    "\n",
    "labels = gl.datasets.load('mnist', labels_only=True)\n",
    "W = gl.weightmatrix.knn('mnist', 10, metric='vae')\n",
    "\n",
    "G = gl.graph(W)\n",
    "num_train_per_class = 2"
   ]
  },
  {
   "cell_type": "code",
   "execution_count": 2,
   "metadata": {},
   "outputs": [
    {
     "data": {
      "application/vnd.jupyter.widget-view+json": {
       "model_id": "d9783935470541f4b6e66e887bbc1a95",
       "version_major": 2,
       "version_minor": 0
      },
      "text/plain": [
       "  0%|          | 0/100 [00:00<?, ?it/s]"
      ]
     },
     "metadata": {},
     "output_type": "display_data"
    },
    {
     "name": "stdout",
     "output_type": "stream",
     "text": [
      "mean Laplacian Eigenmaps-ssl accuracy: 0.865 std: 0.035\n",
      "mean Procrustes-ssl accuracy: 0.894 std: 0.024\n"
     ]
    }
   ],
   "source": [
    "lesslaccs = []\n",
    "psslaccs = []\n",
    "\n",
    "for _ in tqdm(range(100)):\n",
    "    vals_rsvd, vecs_rsvd = G.eigen_decomp(normalization='normalized', k=10, method='lowrank', q=50, c=50)\n",
    "\n",
    "    train_ind = gl.trainsets.generate(labels, rate=num_train_per_class)\n",
    "    train_labels = labels[train_ind]\n",
    "    \n",
    "    b = np.zeros((train_labels.size, train_labels.max() + 1))\n",
    "    b[np.arange(train_labels.size), train_labels] = 1\n",
    "    \n",
    "    # laplacian eigenmaps ssl\n",
    "    ridge.fit(vecs_rsvd[train_ind], train_labels)\n",
    "    y_pred = ridge.predict(vecs_rsvd)\n",
    "    lesslacc = (y_pred == labels).sum() / labels.shape[0]\n",
    "    \n",
    "    # procrustes ssl\n",
    "    u,s,vt = np.linalg.svd(vecs_rsvd[train_ind].T@b)\n",
    "    coef = u@vt\n",
    "    reg_embeddings = vecs_rsvd@coef\n",
    "    \n",
    "    psslacc = (reg_embeddings.argmax(1) == labels).sum() / labels.shape[0]\n",
    "    \n",
    "    lesslaccs.append(lesslacc)\n",
    "    psslaccs.append(psslacc)\n",
    "    \n",
    "print(f'mean Laplacian Eigenmaps-ssl accuracy: {np.mean(lesslaccs):.3f} std: {np.std(lesslaccs):.3f}')\n",
    "print(f'mean Procrustes-ssl accuracy: {np.mean(psslaccs):.3f} std: {np.std(psslaccs):.3f}')"
   ]
  },
  {
   "cell_type": "code",
   "execution_count": null,
   "metadata": {},
   "outputs": [],
   "source": []
  }
 ],
 "metadata": {
  "kernelspec": {
   "display_name": "Python 3",
   "language": "python",
   "name": "python3"
  },
  "language_info": {
   "codemirror_mode": {
    "name": "ipython",
    "version": 3
   },
   "file_extension": ".py",
   "mimetype": "text/x-python",
   "name": "python",
   "nbconvert_exporter": "python",
   "pygments_lexer": "ipython3",
   "version": "3.7.3"
  }
 },
 "nbformat": 4,
 "nbformat_minor": 4
}
